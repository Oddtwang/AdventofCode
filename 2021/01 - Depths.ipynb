{
 "cells": [
  {
   "cell_type": "code",
   "execution_count": 23,
   "id": "c88234de-cb06-4ed7-888f-ac08ab38cec4",
   "metadata": {},
   "outputs": [],
   "source": [
    "with open('./inputs/01_depths.txt','r') as infile:\n",
    "    depths = []\n",
    "    for l in infile.readlines():\n",
    "        depths.append(int(l))"
   ]
  },
  {
   "cell_type": "code",
   "execution_count": 51,
   "id": "5e1a1cfb-9dff-45cc-bfc0-588faea66e0b",
   "metadata": {},
   "outputs": [
    {
     "data": {
      "text/plain": [
       "2000"
      ]
     },
     "execution_count": 51,
     "metadata": {},
     "output_type": "execute_result"
    }
   ],
   "source": [
    "len(depths)"
   ]
  },
  {
   "cell_type": "code",
   "execution_count": 49,
   "id": "c9b592b4-c7fc-4220-b9c5-cbd2d0fb1031",
   "metadata": {},
   "outputs": [],
   "source": [
    "def list_increases(inlist):\n",
    "    ''' Count the number of values in a list (of numerics) which are greater than the preceding element '''\n",
    "    incs = 0\n",
    "    pd = float('-inf')\n",
    "    dc = [pd] + inlist.copy()\n",
    "\n",
    "    while len(dc) > 1:\n",
    "        d = dc.pop(0)\n",
    "        if d > pd: incs += 1\n",
    "        pd = d\n",
    "        \n",
    "    return incs"
   ]
  },
  {
   "cell_type": "code",
   "execution_count": 50,
   "id": "d76765f0-a550-409e-a495-6d8d6ddcb148",
   "metadata": {},
   "outputs": [
    {
     "name": "stdout",
     "output_type": "stream",
     "text": [
      "Increases:  1292\n"
     ]
    }
   ],
   "source": [
    "print('Increases: ',list_increases(depths))"
   ]
  },
  {
   "cell_type": "markdown",
   "id": "5065af62-2462-4ca5-8399-f3df6e27eb7a",
   "metadata": {},
   "source": [
    "---"
   ]
  },
  {
   "cell_type": "code",
   "execution_count": 28,
   "id": "9bcef6d4-1aac-4365-93ce-fbcfd4277070",
   "metadata": {},
   "outputs": [],
   "source": [
    "# 3-element sliding windows\n",
    "d_0 = depths.copy()\n",
    "d_1 = [0] + d_0[:-1]\n",
    "d_2 = [0] + d_1[:-1]"
   ]
  },
  {
   "cell_type": "code",
   "execution_count": 30,
   "id": "23ea91ad-3469-431c-9f30-c473a8f36cb8",
   "metadata": {},
   "outputs": [],
   "source": [
    "triples = [a+b+c for (a,b,c) in zip(d_0,d_1,d_2)]"
   ]
  },
  {
   "cell_type": "code",
   "execution_count": 46,
   "id": "8d858638-ac40-4887-ba59-c199fc25ccdc",
   "metadata": {},
   "outputs": [],
   "source": [
    "# First 2 elements are not complete windows\n",
    "triples_check = [0] + triples[2:]"
   ]
  },
  {
   "cell_type": "code",
   "execution_count": 52,
   "id": "34cfacbe-e6a8-473e-a49e-e9a0fe4e7fb8",
   "metadata": {},
   "outputs": [
    {
     "name": "stdout",
     "output_type": "stream",
     "text": [
      "Increases:  1264\n"
     ]
    }
   ],
   "source": [
    "print('Increases: ',list_increases(triples))"
   ]
  },
  {
   "cell_type": "code",
   "execution_count": null,
   "id": "aa00cfd5-b3c5-4536-a023-38a0ef6d45bf",
   "metadata": {},
   "outputs": [],
   "source": []
  }
 ],
 "metadata": {
  "kernelspec": {
   "display_name": "Python 3",
   "language": "python",
   "name": "python3"
  },
  "language_info": {
   "codemirror_mode": {
    "name": "ipython",
    "version": 3
   },
   "file_extension": ".py",
   "mimetype": "text/x-python",
   "name": "python",
   "nbconvert_exporter": "python",
   "pygments_lexer": "ipython3",
   "version": "3.8.2"
  }
 },
 "nbformat": 4,
 "nbformat_minor": 5
}
