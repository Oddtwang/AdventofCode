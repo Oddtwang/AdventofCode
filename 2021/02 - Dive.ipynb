{
 "cells": [
  {
   "cell_type": "markdown",
   "id": "3117ce13-ef59-4a47-aea9-e675091dfa2d",
   "metadata": {},
   "source": [
    "\n",
    "It seems like the submarine can take a series of commands like forward 1, down 2, or up 3:\n",
    "\n",
    "    forward X increases the horizontal position by X units.\n",
    "    down X increases the depth by X units.\n",
    "    up X decreases the depth by X units.\n",
    "\n",
    "Note that since you're on a submarine, down and up affect your depth, and so they have the opposite result of what you might expect.\n",
    "\n",
    "The submarine seems to already have a planned course (your puzzle input). You should probably figure out where it's going. For example:\n",
    "\n",
    "forward 5\n",
    "down 5\n",
    "forward 8\n",
    "up 3\n",
    "down 8\n",
    "forward 2\n",
    "\n",
    "Your horizontal position and depth both start at 0. The steps above would then modify them as follows:\n",
    "\n",
    "    forward 5 adds 5 to your horizontal position, a total of 5.\n",
    "    down 5 adds 5 to your depth, resulting in a value of 5.\n",
    "    forward 8 adds 8 to your horizontal position, a total of 13.\n",
    "    up 3 decreases your depth by 3, resulting in a value of 2.\n",
    "    down 8 adds 8 to your depth, resulting in a value of 10.\n",
    "    forward 2 adds 2 to your horizontal position, a total of 15.\n",
    "\n",
    "After following these instructions, you would have a horizontal position of 15 and a depth of 10. (Multiplying these together produces 150.)\n",
    "\n",
    "Calculate the horizontal position and depth you would have after following the planned course. What do you get if you multiply your final horizontal position by your final depth?"
   ]
  },
  {
   "cell_type": "code",
   "execution_count": 3,
   "id": "9846accd-22bd-425b-bfdb-e0ad59339de1",
   "metadata": {},
   "outputs": [],
   "source": [
    "with open('./inputs/02_dive.txt','r') as infile:\n",
    "    commands = []\n",
    "    for l in infile.readlines():\n",
    "        commands.append(l.strip())"
   ]
  },
  {
   "cell_type": "code",
   "execution_count": 4,
   "id": "151cf1b9-30e2-414c-a7cb-5a07404568ba",
   "metadata": {},
   "outputs": [
    {
     "data": {
      "text/plain": [
       "['forward 1', 'down 9', 'down 4', 'forward 4', 'down 2']"
      ]
     },
     "execution_count": 4,
     "metadata": {},
     "output_type": "execute_result"
    }
   ],
   "source": [
    "commands[:5]"
   ]
  },
  {
   "cell_type": "code",
   "execution_count": 6,
   "id": "8f8717d8-15bc-44a8-a604-1ba900c439bd",
   "metadata": {},
   "outputs": [],
   "source": [
    "posn = 0\n",
    "depth = 0\n",
    "\n",
    "for c in commands:\n",
    "    if c.startswith('forward') : posn += int(c.split()[-1])\n",
    "    elif c.startswith('down')  : depth += int(c.split()[-1])\n",
    "    elif c.startswith('up')    : depth -= int(c.split()[-1])"
   ]
  },
  {
   "cell_type": "code",
   "execution_count": 7,
   "id": "e847183b-c3a3-4081-93bb-a1b2ce7af7d1",
   "metadata": {},
   "outputs": [
    {
     "name": "stdout",
     "output_type": "stream",
     "text": [
      "Final position:  2033\n",
      "Final depth:  750\n",
      "Product:  1524750\n"
     ]
    }
   ],
   "source": [
    "print('Final position: ',posn)\n",
    "print('Final depth: ',depth)\n",
    "print('Product: ',posn*depth)"
   ]
  },
  {
   "cell_type": "markdown",
   "id": "28698801-f8a0-4754-920d-f834c020d782",
   "metadata": {},
   "source": [
    "---"
   ]
  },
  {
   "cell_type": "code",
   "execution_count": 9,
   "id": "43cb234c-048b-4e40-862f-31636ea527a9",
   "metadata": {},
   "outputs": [],
   "source": [
    "posn = 0\n",
    "depth = 0\n",
    "aim = 0\n",
    "\n",
    "for c in commands:\n",
    "    if c.startswith('forward') : \n",
    "        _x = int(c.split()[-1])\n",
    "        posn += _x\n",
    "        depth += aim * _x\n",
    "    elif c.startswith('down')  : aim += int(c.split()[-1])\n",
    "    elif c.startswith('up')    : aim -= int(c.split()[-1])"
   ]
  },
  {
   "cell_type": "code",
   "execution_count": 10,
   "id": "a66705f7-be8e-4eaa-89c3-a2a6b6669ed3",
   "metadata": {},
   "outputs": [
    {
     "name": "stdout",
     "output_type": "stream",
     "text": [
      "Final position:  2033\n",
      "Final depth:  783289\n",
      "Product:  1592426537\n"
     ]
    }
   ],
   "source": [
    "print('Final position: ',posn)\n",
    "print('Final depth: ',depth)\n",
    "print('Product: ',posn*depth)"
   ]
  }
 ],
 "metadata": {
  "kernelspec": {
   "display_name": "Python 3",
   "language": "python",
   "name": "python3"
  },
  "language_info": {
   "codemirror_mode": {
    "name": "ipython",
    "version": 3
   },
   "file_extension": ".py",
   "mimetype": "text/x-python",
   "name": "python",
   "nbconvert_exporter": "python",
   "pygments_lexer": "ipython3",
   "version": "3.8.2"
  }
 },
 "nbformat": 4,
 "nbformat_minor": 5
}
