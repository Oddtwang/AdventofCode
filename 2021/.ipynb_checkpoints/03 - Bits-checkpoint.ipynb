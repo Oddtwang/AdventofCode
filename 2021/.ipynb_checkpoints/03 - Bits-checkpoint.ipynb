{
 "cells": [
  {
   "cell_type": "markdown",
   "id": "52b63a0a-36dc-4747-aede-773c03380b15",
   "metadata": {},
   "source": [
    "The diagnostic report (your puzzle input) consists of a list of binary numbers which, when decoded properly, can tell you many useful things about the conditions of the submarine. The first parameter to check is the power consumption.\n",
    "\n",
    "You need to use the binary numbers in the diagnostic report to generate two new binary numbers (called the gamma rate and the epsilon rate). The power consumption can then be found by multiplying the gamma rate by the epsilon rate.\n",
    "\n",
    "Each bit in the gamma rate can be determined by finding the most common bit in the corresponding position of all numbers in the diagnostic report. For example, given the following diagnostic report:\n",
    "\n",
    "00100\n",
    "11110\n",
    "10110\n",
    "10111\n",
    "10101\n",
    "01111\n",
    "00111\n",
    "11100\n",
    "10000\n",
    "11001\n",
    "00010\n",
    "01010\n",
    "\n",
    "Considering only the first bit of each number, there are five 0 bits and seven 1 bits. Since the most common bit is 1, the first bit of the gamma rate is 1.\n",
    "\n",
    "The most common second bit of the numbers in the diagnostic report is 0, so the second bit of the gamma rate is 0.\n",
    "\n",
    "The most common value of the third, fourth, and fifth bits are 1, 1, and 0, respectively, and so the final three bits of the gamma rate are 110.\n",
    "\n",
    "So, the gamma rate is the binary number 10110, or 22 in decimal.\n",
    "\n",
    "The epsilon rate is calculated in a similar way; rather than use the most common bit, the least common bit from each position is used. So, the epsilon rate is 01001, or 9 in decimal. Multiplying the gamma rate (22) by the epsilon rate (9) produces the power consumption, 198.\n",
    "\n",
    "Use the binary numbers in your diagnostic report to calculate the gamma rate and epsilon rate, then multiply them together. What is the power consumption of the submarine? (Be sure to represent your answer in decimal, not binary.)"
   ]
  },
  {
   "cell_type": "code",
   "execution_count": 1,
   "id": "9e8ae6e8-f617-4e38-91f2-6025e8fc3414",
   "metadata": {},
   "outputs": [],
   "source": [
    "with open('./inputs/03_bits.txt','r') as infile:\n",
    "    bits = []\n",
    "    for l in infile.readlines():\n",
    "        bits.append(l.strip())"
   ]
  },
  {
   "cell_type": "code",
   "execution_count": 3,
   "id": "8ac19794-2baf-461e-9f53-335b3b3c8fb2",
   "metadata": {},
   "outputs": [
    {
     "data": {
      "text/plain": [
       "1000"
      ]
     },
     "execution_count": 3,
     "metadata": {},
     "output_type": "execute_result"
    }
   ],
   "source": [
    "len(bits)"
   ]
  },
  {
   "cell_type": "code",
   "execution_count": 24,
   "id": "d6fec534-7d3f-4ddf-954b-944a139075ce",
   "metadata": {},
   "outputs": [],
   "source": [
    "from bitarray import bitarray\n",
    "from bitarray.util import ba2int\n",
    "\n",
    "import numpy as np"
   ]
  },
  {
   "cell_type": "code",
   "execution_count": 66,
   "id": "ac75d11f-7579-486f-bc30-07dd7e8e8080",
   "metadata": {},
   "outputs": [],
   "source": [
    "def binlist_power(inlist):\n",
    "    # NB: won't work well if each value is equally common in a given place!\n",
    "    thresh = len(inlist)/2\n",
    "    \n",
    "    bit_arr = np.array([list(t) for t in inlist]).astype(int)\n",
    "    bitsum = sum(bit_arr)\n",
    "    \n",
    "    gbit = bitarray([x > thresh for x in bitsum])\n",
    "    ebit = ~gbit\n",
    "    \n",
    "    gamma = ba2int(gbit)\n",
    "    epsilon = ba2int(ebit)\n",
    "    \n",
    "    return gamma, epsilon"
   ]
  },
  {
   "cell_type": "code",
   "execution_count": 68,
   "id": "05569305-a884-4e68-8f4c-a7ffe481af5b",
   "metadata": {},
   "outputs": [
    {
     "name": "stdout",
     "output_type": "stream",
     "text": [
      "Gamma:    844\n",
      "Epsilon:  3251\n",
      "Power:    2743844\n"
     ]
    },
    {
     "name": "stderr",
     "output_type": "stream",
     "text": [
      "<ipython-input-66-6cf0610f2ff5>:8: DeprecationWarning: In future, it will be an error for 'np.bool_' scalars to be interpreted as an index\n",
      "  gbit = bitarray([x > thresh for x in bitsum])\n"
     ]
    }
   ],
   "source": [
    "g,e = binlist_power(bits)\n",
    "print('Gamma:   ',g)\n",
    "print('Epsilon: ',e)\n",
    "print('Power:   ',g*e)"
   ]
  }
 ],
 "metadata": {
  "kernelspec": {
   "display_name": "Python 3",
   "language": "python",
   "name": "python3"
  },
  "language_info": {
   "codemirror_mode": {
    "name": "ipython",
    "version": 3
   },
   "file_extension": ".py",
   "mimetype": "text/x-python",
   "name": "python",
   "nbconvert_exporter": "python",
   "pygments_lexer": "ipython3",
   "version": "3.8.2"
  }
 },
 "nbformat": 4,
 "nbformat_minor": 5
}
